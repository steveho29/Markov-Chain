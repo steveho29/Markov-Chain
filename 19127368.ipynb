{
 "cells": [
  {
   "cell_type": "markdown",
   "id": "2dd18ea9",
   "metadata": {},
   "source": [
    "# 19127368\n",
    "# Hồ Ngọc Minh Đức\n",
    "# 19CLC9"
   ]
  },
  {
   "cell_type": "code",
   "execution_count": 96,
   "id": "cb859ca5",
   "metadata": {},
   "outputs": [],
   "source": [
    "from sympy import Matrix, pprint\n",
    "import random"
   ]
  },
  {
   "cell_type": "code",
   "execution_count": 97,
   "id": "7aeab7c7",
   "metadata": {},
   "outputs": [],
   "source": [
    "# Input: ma tran A can chuyen vi\n",
    "# Ouput: ma tran chuyen vi cua A\n",
    "def transposeMatrix(A: list):\n",
    "    # zip(*A):\n",
    "    # Input: ma tran A.\n",
    "    # Ouput la cac tuple phan tu cua cac cot trong ma tran A\n",
    "    return [list(i) for i in zip(*A)]"
   ]
  },
  {
   "cell_type": "code",
   "execution_count": 98,
   "id": "e1f3cc8b",
   "metadata": {},
   "outputs": [],
   "source": [
    "# Ham nhan 2 ma tran A B\n",
    "# Input A,B: ma tran duoi dang list\n",
    "# Output: Ma trận C = A X B\n",
    "def multiplyMatrix(A, B):\n",
    "    C = []\n",
    "    for A_row in A:\n",
    "        row = []\n",
    "        for B_col in zip(*B):\n",
    "            if len(B_col) != len(A_row):\n",
    "                print(\"Kich thuoc khong hop le\")\n",
    "                return -1\n",
    "            row.append(sum(a * b for a, b in zip(A_row, B_col)))\n",
    "        C.append(row)\n",
    "    return C"
   ]
  },
  {
   "cell_type": "code",
   "execution_count": 99,
   "id": "faac6a87",
   "metadata": {},
   "outputs": [],
   "source": [
    "# Input: ma tran A, so nguyen n\n",
    "# Ouput: ma tran A^n\n",
    "def powerMatrix(A, n):\n",
    "    B = A.copy()\n",
    "    for i in range(n - 1):\n",
    "        B = multiplyMatrix(B, A)\n",
    "    return B"
   ]
  },
  {
   "cell_type": "code",
   "execution_count": 100,
   "id": "a9b56e35",
   "metadata": {},
   "outputs": [],
   "source": [
    "# Input: n la size cua ma tran\n",
    "# Ouput: ma tran xac suat chuyen trang thai ngau nhien P\n",
    "# P co kich thuoc n x n\n",
    "def random_P_Matrix(n: int):\n",
    "    matrix = []\n",
    "    if n <= 0:\n",
    "        return matrix\n",
    "    precision = 100  # Lay 2 chu so thap phan\n",
    "    for i in range(n):\n",
    "        row = []\n",
    "        s = precision\n",
    "        for j in range(n - 1):\n",
    "            # random.randint:\n",
    "            # Input: 2 tham so min va max\n",
    "            # Ouput: 1 so random trong khoang min va max\n",
    "            x = random.randint(0, s)\n",
    "            s = s - x\n",
    "            row.append(x / precision)\n",
    "        row.append(s / precision)\n",
    "\n",
    "        matrix.append(row)\n",
    "    return transposeMatrix(matrix)"
   ]
  },
  {
   "cell_type": "code",
   "execution_count": 1,
   "id": "0ee94b7a",
   "metadata": {},
   "outputs": [],
   "source": [
    "# Input: n la so luong phan tu cua vector\n",
    "# Ouput: vector phan phoi xac suat ngau nhien 𝜋0 co n phan tu\n",
    "def random_PiZero_Vector(n):\n",
    "    randomList = []\n",
    "    if n <= 0:\n",
    "        return randomList\n",
    "    precision = 100  # Lay 2 chu so thap phan\n",
    "    s = 100\n",
    "    for i in range(n-1):\n",
    "        # random.randint:\n",
    "        # Input: 2 tham so min va max\n",
    "        # Ouput: 1 so random trong khoang min va max\n",
    "        x = random.randint(0, s)\n",
    "        s = s - x\n",
    "        randomList.append(x / precision)\n",
    "    randomList.append(s / precision)\n",
    "    return transposeMatrix([randomList])"
   ]
  },
  {
   "cell_type": "code",
   "execution_count": 102,
   "id": "a6f318e8",
   "metadata": {},
   "outputs": [],
   "source": [
    "# Input:\n",
    "#   P: ma trận xác suất chuyển trạng thái ngẫu nhiên\n",
    "#   Pi_Zero: vector  phân  phối  xác  suất đầu  ngẫu  nhiên  𝜋0\n",
    "#   t: so nguyen\n",
    "# Output: vector phân phối xác suất sau t buoc\n",
    "#           𝜋_t = P^t * 𝜋0\n",
    "\n",
    "def Vector_PhanPhoiXacSuat_Sau_t_buoc(P, Pi_Zero, t):\n",
    "    if t == 0:\n",
    "        return Pi_Zero\n",
    "    P_t = powerMatrix(P, t)\n",
    "    Pi_t = multiplyMatrix(P_t, Pi_Zero)\n",
    "    return Pi_t"
   ]
  },
  {
   "cell_type": "markdown",
   "id": "a0096c6f",
   "metadata": {},
   "source": [
    "# Câu 1"
   ]
  },
  {
   "cell_type": "code",
   "execution_count": 107,
   "id": "70010442",
   "metadata": {
    "scrolled": true
   },
   "outputs": [
    {
     "name": "stdout",
     "output_type": "stream",
     "text": [
      "-----Cau 1-----\n",
      "Input n: 3\n",
      "Random ma trận xác  suất  chuyển  trạng  thái  ngẫu nhiên P\n"
     ]
    },
    {
     "data": {
      "text/latex": [
       "$\\displaystyle \\left[\\begin{matrix}0.53 & 0.19 & 0.03\\\\0.34 & 0.38 & 0.43\\\\0.13 & 0.43 & 0.54\\end{matrix}\\right]$"
      ],
      "text/plain": [
       "Matrix([\n",
       "[0.53, 0.19, 0.03],\n",
       "[0.34, 0.38, 0.43],\n",
       "[0.13, 0.43, 0.54]])"
      ]
     },
     "execution_count": 107,
     "metadata": {},
     "output_type": "execute_result"
    }
   ],
   "source": [
    "print('-----Cau 1-----')\n",
    "n = int(input('Input n: '))\n",
    "print('Random ma trận xác  suất  chuyển  trạng  thái  ngẫu nhiên P')\n",
    "P = random_P_Matrix(n)\n",
    "Matrix(P)"
   ]
  },
  {
   "cell_type": "markdown",
   "id": "b47ec399",
   "metadata": {},
   "source": [
    "# Câu 2"
   ]
  },
  {
   "cell_type": "code",
   "execution_count": 108,
   "id": "9c09a329",
   "metadata": {
    "scrolled": true
   },
   "outputs": [
    {
     "name": "stdout",
     "output_type": "stream",
     "text": [
      "\n",
      "-----Cau 2-----\n",
      "Vector  phân  phối  xác  suất đầu  ngẫu  nhiên  𝜋0\n"
     ]
    },
    {
     "data": {
      "text/latex": [
       "$\\displaystyle \\left[\\begin{matrix}0.63\\\\0.06\\\\0.31\\end{matrix}\\right]$"
      ],
      "text/plain": [
       "Matrix([\n",
       "[0.63],\n",
       "[0.06],\n",
       "[0.31]])"
      ]
     },
     "execution_count": 108,
     "metadata": {},
     "output_type": "execute_result"
    }
   ],
   "source": [
    "print('\\n-----Cau 2-----')\n",
    "print('Vector  phân  phối  xác  suất đầu  ngẫu  nhiên  𝜋0')\n",
    "Pi_Zero = random_PiZero_Vector(n) #𝜋_0\n",
    "Matrix(Pi_Zero)"
   ]
  },
  {
   "cell_type": "code",
   "execution_count": 112,
   "id": "72b0dcce",
   "metadata": {},
   "outputs": [
    {
     "name": "stdout",
     "output_type": "stream",
     "text": [
      "\n",
      "Vector 𝜋 sau 1 buoc:\n",
      "⎡0.3546⎤\n",
      "⎢      ⎥\n",
      "⎢0.3703⎥\n",
      "⎢      ⎥\n",
      "⎣0.2751⎦\n",
      "\n",
      "Vector 𝜋 sau 2 buoc:\n",
      "⎡0.266548⎤\n",
      "⎢        ⎥\n",
      "⎢0.379571⎥\n",
      "⎢        ⎥\n",
      "⎣0.353881⎦\n",
      "\n",
      "Vector 𝜋 sau 3 buoc:\n",
      "⎡0.22400536⎤\n",
      "⎢          ⎥\n",
      "⎢0.38703213⎥\n",
      "⎢          ⎥\n",
      "⎣0.38896251⎦\n"
     ]
    }
   ],
   "source": [
    "# Tinh vector phan phoi sau 1, 2, 3 buoc\n",
    "for t in range(1,4):\n",
    "    # Tính 𝜋_t\n",
    "    Pi_t = Vector_PhanPhoiXacSuat_Sau_t_buoc(P, Pi_Zero, t)\n",
    "    print('\\nVector 𝜋 sau {} buoc:'.format(t))\n",
    "    pprint(Matrix(Pi_t))\n"
   ]
  },
  {
   "cell_type": "markdown",
   "id": "8e046af9",
   "metadata": {},
   "source": [
    "# Câu 3"
   ]
  },
  {
   "cell_type": "code",
   "execution_count": 114,
   "id": "03cd0c51",
   "metadata": {},
   "outputs": [
    {
     "name": "stdout",
     "output_type": "stream",
     "text": [
      "\n",
      "-----Cau 3-----\n",
      "Input t: 4\n",
      "Vector 𝜋 sau 4 buoc:\n"
     ]
    },
    {
     "data": {
      "text/latex": [
       "$\\displaystyle \\left[\\begin{matrix}0.2039278208\\\\0.3904879111\\\\0.4055842681\\end{matrix}\\right]$"
      ],
      "text/plain": [
       "Matrix([\n",
       "[0.2039278208],\n",
       "[0.3904879111],\n",
       "[0.4055842681]])"
      ]
     },
     "execution_count": 114,
     "metadata": {},
     "output_type": "execute_result"
    }
   ],
   "source": [
    "print('\\n-----Cau 3-----')\n",
    "t = int(input('Input t: '))\n",
    "# Tính 𝜋_t\n",
    "Pi_t = Vector_PhanPhoiXacSuat_Sau_t_buoc(P, Pi_Zero, t)\n",
    "print('Vector 𝜋 sau {} buoc:'.format(t))\n",
    "Matrix(Pi_t)"
   ]
  },
  {
   "cell_type": "code",
   "execution_count": null,
   "id": "7e4e9a50",
   "metadata": {},
   "outputs": [],
   "source": []
  }
 ],
 "metadata": {
  "kernelspec": {
   "display_name": "Python 3 (ipykernel)",
   "language": "python",
   "name": "python3"
  },
  "language_info": {
   "codemirror_mode": {
    "name": "ipython",
    "version": 3
   },
   "file_extension": ".py",
   "mimetype": "text/x-python",
   "name": "python",
   "nbconvert_exporter": "python",
   "pygments_lexer": "ipython3",
   "version": "3.9.0"
  }
 },
 "nbformat": 4,
 "nbformat_minor": 5
}
